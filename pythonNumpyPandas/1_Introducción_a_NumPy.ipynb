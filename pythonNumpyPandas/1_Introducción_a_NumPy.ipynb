{
  "nbformat": 4,
  "nbformat_minor": 0,
  "metadata": {
    "kernelspec": {
      "display_name": "Python 3",
      "language": "python",
      "name": "python3"
    },
    "language_info": {
      "codemirror_mode": {
        "name": "ipython",
        "version": 3
      },
      "file_extension": ".py",
      "mimetype": "text/x-python",
      "name": "python",
      "nbconvert_exporter": "python",
      "pygments_lexer": "ipython3",
      "version": "3.7.4"
    },
    "colab": {
      "name": "1_Introducción a NumPy.ipynb",
      "provenance": [],
      "toc_visible": true,
      "include_colab_link": true
    }
  },
  "cells": [
    {
      "cell_type": "markdown",
      "metadata": {
        "id": "view-in-github",
        "colab_type": "text"
      },
      "source": [
        "<a href=\"https://colab.research.google.com/github/BrianOrihuelaP/googleCollab-Python/blob/main/pythonNumpyPandas/1_Introducci%C3%B3n_a_NumPy.ipynb\" target=\"_parent\"><img src=\"https://colab.research.google.com/assets/colab-badge.svg\" alt=\"Open In Colab\"/></a>"
      ]
    },
    {
      "cell_type": "markdown",
      "metadata": {
        "id": "yDAqNAk5T3J5"
      },
      "source": [
        "# Introducción a NumPy"
      ]
    },
    {
      "cell_type": "markdown",
      "metadata": {
        "id": "v5i0jNOhT3J6"
      },
      "source": [
        "[Numpy](https://numpy.org) es una librería fundamental para la computación científica con Python.\n",
        "* Proporciona arrays N-dimensionales\n",
        "* Implementa funciones matemáticas sofisticadas\n",
        "* Proporciona herramientas para integrar C/C++ y Fortran\n",
        "* Proporciona mecanismos para facilitar la realización de tareas relacionadas con álgebra lineal o números aleatorios"
      ]
    },
    {
      "cell_type": "markdown",
      "metadata": {
        "id": "CqYUF6sRT3J8"
      },
      "source": [
        "## Imports"
      ]
    },
    {
      "cell_type": "code",
      "metadata": {
        "id": "LTvG3hyjT3J9"
      },
      "source": [
        "import numpy as np"
      ],
      "execution_count": null,
      "outputs": []
    },
    {
      "cell_type": "markdown",
      "metadata": {
        "id": "PXjVKi7lT3KC"
      },
      "source": [
        "## Arrays"
      ]
    },
    {
      "cell_type": "markdown",
      "metadata": {
        "id": "-CBg_pYQT3KD"
      },
      "source": [
        "Un **array** es una estructura de datos que consiste en una colección de elementos (valores o variables), cada uno identificado por al menos un índice o clave. Un array se almacena de modo que la posición de cada elemento se pueda calcular a partir de su tupla de índice mediante una fórmula matemática. El tipo más simple de array es un array lineal, también llamado array unidimensional."
      ]
    },
    {
      "cell_type": "markdown",
      "metadata": {
        "id": "BzXQcCLuT3KE"
      },
      "source": [
        "En numpy:\n",
        "* Cada dimensión se denomina **axis**\n",
        "* El número de dimensiones se denomina **rank**\n",
        "* La lista de dimensiones con su correspondiente longitud se denomina **shape**\n",
        "* El número total de elementos (multiplicación de la longitud de las dimensiones) se denomina **size**"
      ]
    },
    {
      "cell_type": "code",
      "metadata": {
        "id": "RKHSmoycT3KE"
      },
      "source": [
        "# Array cuyos valores son todos 0\n",
        "a = np.zeros((2, 4))"
      ],
      "execution_count": null,
      "outputs": []
    },
    {
      "cell_type": "code",
      "metadata": {
        "id": "JIN4OavkT3KH",
        "colab": {
          "base_uri": "https://localhost:8080/"
        },
        "outputId": "940f7a49-00f3-4630-95b4-67f2c02bb1f2"
      },
      "source": [
        "a"
      ],
      "execution_count": null,
      "outputs": [
        {
          "output_type": "execute_result",
          "data": {
            "text/plain": [
              "array([[0., 0., 0., 0.],\n",
              "       [0., 0., 0., 0.]])"
            ]
          },
          "metadata": {},
          "execution_count": 6
        }
      ]
    },
    {
      "cell_type": "markdown",
      "metadata": {
        "id": "gmfrpXw7T3KL"
      },
      "source": [
        "_**a**_ es un array:\n",
        "* Con dos **axis**, el primero de longitud 2 y el segundo de longitud 4\n",
        "* Con un **rank** igual a 2\n",
        "* Con un **shape** igual (2, 4)\n",
        "* Con un **size** igual a 8"
      ]
    },
    {
      "cell_type": "code",
      "metadata": {
        "id": "afJ3Mr9UT3KM",
        "colab": {
          "base_uri": "https://localhost:8080/"
        },
        "outputId": "3faffc59-ebf6-4dad-db60-8eda45ab25bd"
      },
      "source": [
        "a.shape"
      ],
      "execution_count": null,
      "outputs": [
        {
          "output_type": "execute_result",
          "data": {
            "text/plain": [
              "(2, 4)"
            ]
          },
          "metadata": {},
          "execution_count": 7
        }
      ]
    },
    {
      "cell_type": "code",
      "metadata": {
        "id": "MYyetC3MT3KO",
        "colab": {
          "base_uri": "https://localhost:8080/"
        },
        "outputId": "cd051c7f-56da-4f3a-c138-b8b3d77b4751"
      },
      "source": [
        "a.ndim"
      ],
      "execution_count": null,
      "outputs": [
        {
          "output_type": "execute_result",
          "data": {
            "text/plain": [
              "2"
            ]
          },
          "metadata": {},
          "execution_count": 8
        }
      ]
    },
    {
      "cell_type": "code",
      "metadata": {
        "id": "f90sewecT3KS",
        "colab": {
          "base_uri": "https://localhost:8080/"
        },
        "outputId": "a573129d-7a88-4584-d029-280cd227c40d"
      },
      "source": [
        "a.size"
      ],
      "execution_count": null,
      "outputs": [
        {
          "output_type": "execute_result",
          "data": {
            "text/plain": [
              "8"
            ]
          },
          "metadata": {},
          "execution_count": 9
        }
      ]
    },
    {
      "cell_type": "markdown",
      "metadata": {
        "id": "j15oFt_AT3KV"
      },
      "source": [
        "## Creación de Arrays"
      ]
    },
    {
      "cell_type": "code",
      "metadata": {
        "id": "FB6A2j3XT3KW",
        "colab": {
          "base_uri": "https://localhost:8080/"
        },
        "outputId": "dfd4531a-eb43-4919-a12a-0e0814a615bc"
      },
      "source": [
        "# Array cuyos valores son todos 0\n",
        "np.zeros((2, 3, 4))"
      ],
      "execution_count": null,
      "outputs": [
        {
          "output_type": "execute_result",
          "data": {
            "text/plain": [
              "array([[[0., 0., 0., 0.],\n",
              "        [0., 0., 0., 0.],\n",
              "        [0., 0., 0., 0.]],\n",
              "\n",
              "       [[0., 0., 0., 0.],\n",
              "        [0., 0., 0., 0.],\n",
              "        [0., 0., 0., 0.]]])"
            ]
          },
          "metadata": {},
          "execution_count": 10
        }
      ]
    },
    {
      "cell_type": "code",
      "metadata": {
        "id": "lMUA63xwT3KY",
        "colab": {
          "base_uri": "https://localhost:8080/"
        },
        "outputId": "87090a5f-e29c-4410-e89a-67752a3baa77"
      },
      "source": [
        "# Array cuyos valores son todos 1\n",
        "np.ones((2, 3, 4))"
      ],
      "execution_count": null,
      "outputs": [
        {
          "output_type": "execute_result",
          "data": {
            "text/plain": [
              "array([[[1., 1., 1., 1.],\n",
              "        [1., 1., 1., 1.],\n",
              "        [1., 1., 1., 1.]],\n",
              "\n",
              "       [[1., 1., 1., 1.],\n",
              "        [1., 1., 1., 1.],\n",
              "        [1., 1., 1., 1.]]])"
            ]
          },
          "metadata": {},
          "execution_count": 11
        }
      ]
    },
    {
      "cell_type": "code",
      "metadata": {
        "id": "H0QE-kPtT3Kb",
        "colab": {
          "base_uri": "https://localhost:8080/"
        },
        "outputId": "96d41f4d-7cc5-4ecb-f6a5-e49b5185fc22"
      },
      "source": [
        "# Array cuyos valores son todos el valor indicado como segundo parámetro de la función\n",
        "np.full((2, 3, 4), 8)"
      ],
      "execution_count": null,
      "outputs": [
        {
          "output_type": "execute_result",
          "data": {
            "text/plain": [
              "array([[[8, 8, 8, 8],\n",
              "        [8, 8, 8, 8],\n",
              "        [8, 8, 8, 8]],\n",
              "\n",
              "       [[8, 8, 8, 8],\n",
              "        [8, 8, 8, 8],\n",
              "        [8, 8, 8, 8]]])"
            ]
          },
          "metadata": {},
          "execution_count": 12
        }
      ]
    },
    {
      "cell_type": "code",
      "metadata": {
        "id": "KRhP-QPuT3Kd",
        "colab": {
          "base_uri": "https://localhost:8080/"
        },
        "outputId": "f47a7206-8ee4-4759-c5ae-6cdc2a4dc0af"
      },
      "source": [
        "# El resultado de np.empty no es predecible \n",
        "# Inicializa los valores del array con lo que haya en memoria en ese momento\n",
        "np.empty((2, 3, 9))"
      ],
      "execution_count": null,
      "outputs": [
        {
          "output_type": "execute_result",
          "data": {
            "text/plain": [
              "array([[[1.55507202e-316, 2.41907520e-312, 2.05833592e-312,\n",
              "         6.79038654e-313, 2.48273508e-312, 2.35541533e-312,\n",
              "         6.79038654e-313, 2.05833592e-312, 2.35541533e-312],\n",
              "        [2.14321575e-312, 6.79038654e-313, 2.35541533e-312,\n",
              "         6.79038654e-313, 2.35541533e-312, 2.35541533e-312,\n",
              "         6.79038654e-313, 2.29175545e-312, 2.50395503e-312],\n",
              "        [2.29175545e-312, 2.41907520e-312, 2.22809558e-312,\n",
              "         2.12199579e-312, 2.10077583e-312, 2.12199579e-312,\n",
              "         6.79038654e-313, 2.35541533e-312, 2.35541533e-312]],\n",
              "\n",
              "       [[2.44029516e-312, 2.18565567e-312, 2.33419537e-312,\n",
              "         2.35541533e-312, 2.37663529e-312, 2.41907520e-312,\n",
              "         2.31297541e-312, 2.46151512e-312, 2.35541533e-312],\n",
              "        [2.12199579e-312, 6.79038654e-313, 2.05833592e-312,\n",
              "         2.16443571e-312, 2.33419537e-312, 2.22809558e-312,\n",
              "         2.33419537e-312, 2.33419537e-312, 9.76118064e-313],\n",
              "        [2.48273508e-312, 2.29175545e-312, 8.48798317e-313,\n",
              "         9.33678148e-313, 1.08221785e-312, 6.79038653e-313,\n",
              "         8.70018275e-313, 6.79038653e-313, 8.70018275e-313]]])"
            ]
          },
          "metadata": {},
          "execution_count": 13
        }
      ]
    },
    {
      "cell_type": "code",
      "metadata": {
        "id": "quipf1bAT3Kf",
        "colab": {
          "base_uri": "https://localhost:8080/"
        },
        "outputId": "851604e5-12de-42d0-90ff-3814db783b09"
      },
      "source": [
        "# Inicializacion del array utilizando un array de Python\n",
        "b = np.array([[1, 2, 3], [4, 5, 6]])\n",
        "b"
      ],
      "execution_count": null,
      "outputs": [
        {
          "output_type": "execute_result",
          "data": {
            "text/plain": [
              "array([[1, 2, 3],\n",
              "       [4, 5, 6]])"
            ]
          },
          "metadata": {},
          "execution_count": 14
        }
      ]
    },
    {
      "cell_type": "code",
      "metadata": {
        "id": "2WoDAW2HT3Kh",
        "colab": {
          "base_uri": "https://localhost:8080/"
        },
        "outputId": "8f775f52-5464-48db-e902-5d0a969afb27"
      },
      "source": [
        "b.shape"
      ],
      "execution_count": null,
      "outputs": [
        {
          "output_type": "execute_result",
          "data": {
            "text/plain": [
              "(2, 3)"
            ]
          },
          "metadata": {},
          "execution_count": 15
        }
      ]
    },
    {
      "cell_type": "code",
      "metadata": {
        "id": "zjm148RBT3Kk",
        "colab": {
          "base_uri": "https://localhost:8080/"
        },
        "outputId": "dbbcd0f9-ee8f-43e6-d274-f57dfe701627"
      },
      "source": [
        "# Creación del array utilizando una función basada en rangos\n",
        "# (minimo, maximo, número elementos del array)\n",
        "print(np.linspace(0, 6, 10))"
      ],
      "execution_count": null,
      "outputs": [
        {
          "output_type": "stream",
          "name": "stdout",
          "text": [
            "[0.         0.66666667 1.33333333 2.         2.66666667 3.33333333\n",
            " 4.         4.66666667 5.33333333 6.        ]\n"
          ]
        }
      ]
    },
    {
      "cell_type": "code",
      "metadata": {
        "id": "kTanWFxVT3Km",
        "colab": {
          "base_uri": "https://localhost:8080/"
        },
        "outputId": "f78c065c-e389-4d3e-f976-81e6a2ababdc"
      },
      "source": [
        "# Inicialización del array con valores aleatorios\n",
        "np.random.rand(2, 3, 4)"
      ],
      "execution_count": null,
      "outputs": [
        {
          "output_type": "execute_result",
          "data": {
            "text/plain": [
              "array([[[0.75612889, 0.9491735 , 0.66665148, 0.09337461],\n",
              "        [0.610522  , 0.76372988, 0.93580039, 0.05744345],\n",
              "        [0.99722509, 0.20860836, 0.20950111, 0.58961823]],\n",
              "\n",
              "       [[0.47050395, 0.59378577, 0.8550326 , 0.85962528],\n",
              "        [0.08715139, 0.05047673, 0.09787768, 0.43976585],\n",
              "        [0.03172571, 0.42585309, 0.44043534, 0.35868996]]])"
            ]
          },
          "metadata": {},
          "execution_count": 17
        }
      ]
    },
    {
      "cell_type": "code",
      "metadata": {
        "id": "9wrdXRMST3Kn",
        "colab": {
          "base_uri": "https://localhost:8080/"
        },
        "outputId": "52c86072-0f82-4d17-ded5-39ed2c7fb3a8"
      },
      "source": [
        "# Inicialización del array con valores aleatorios conforme a una distribución normal\n",
        "np.random.randn(2, 4)"
      ],
      "execution_count": null,
      "outputs": [
        {
          "output_type": "execute_result",
          "data": {
            "text/plain": [
              "array([[-1.43908952,  0.51293369, -0.06704922, -0.46770588],\n",
              "       [-0.27646137, -0.89012169,  0.46309545,  0.29537808]])"
            ]
          },
          "metadata": {},
          "execution_count": 18
        }
      ]
    },
    {
      "cell_type": "code",
      "metadata": {
        "id": "uB7vrXzVT3Kp",
        "colab": {
          "base_uri": "https://localhost:8080/",
          "height": 265
        },
        "outputId": "b49ab6fc-dce4-47f0-ac84-7eeba4096406"
      },
      "source": [
        "%matplotlib inline\n",
        "import matplotlib.pyplot as plt\n",
        "\n",
        "c = np.random.randn(1000000)\n",
        "\n",
        "plt.hist(c, bins=200)\n",
        "plt.show()"
      ],
      "execution_count": null,
      "outputs": [
        {
          "output_type": "display_data",
          "data": {
            "text/plain": [
              "<Figure size 432x288 with 1 Axes>"
            ],
            "image/png": "[encoded data removed]"
          },
          "metadata": {
            "needs_background": "light"
          }
        }
      ]
    },
    {
      "cell_type": "code",
      "metadata": {
        "id": "8XWeUqzWT3Kq",
        "colab": {
          "base_uri": "https://localhost:8080/"
        },
        "outputId": "92e27e5c-281c-4fb4-cf7a-9c9c57f33f4c"
      },
      "source": [
        "# Inicialización del Array utilizando una función personalizada\n",
        "\n",
        "def func(x, y):\n",
        "    return x + 2 * y\n",
        "\n",
        "np.fromfunction(func, (3, 5))"
      ],
      "execution_count": null,
      "outputs": [
        {
          "output_type": "execute_result",
          "data": {
            "text/plain": [
              "array([[ 0.,  2.,  4.,  6.,  8.],\n",
              "       [ 1.,  3.,  5.,  7.,  9.],\n",
              "       [ 2.,  4.,  6.,  8., 10.]])"
            ]
          },
          "metadata": {},
          "execution_count": 20
        }
      ]
    },
    {
      "cell_type": "markdown",
      "metadata": {
        "id": "h4mrN7AMT3Ks"
      },
      "source": [
        "## Acceso a los elementos de un array"
      ]
    },
    {
      "cell_type": "markdown",
      "metadata": {
        "id": "4RFwly-1T3Ks"
      },
      "source": [
        "### Array unidimensional"
      ]
    },
    {
      "cell_type": "code",
      "metadata": {
        "id": "hF83E7ieT3Ks",
        "colab": {
          "base_uri": "https://localhost:8080/"
        },
        "outputId": "946b3865-06ac-465b-c08e-2d376eb774f5"
      },
      "source": [
        "# Creación de un Array unidimensional\n",
        "array_uni = np.array([1, 3, 5, 7, 9, 11])\n",
        "print(\"Shape:\", array_uni.shape)\n",
        "print(\"Array_uni:\", array_uni)"
      ],
      "execution_count": null,
      "outputs": [
        {
          "output_type": "stream",
          "name": "stdout",
          "text": [
            "Shape: (6,)\n",
            "Array_uni: [ 1  3  5  7  9 11]\n"
          ]
        }
      ]
    },
    {
      "cell_type": "code",
      "metadata": {
        "id": "s9GIUsLVT3Ku",
        "colab": {
          "base_uri": "https://localhost:8080/"
        },
        "outputId": "63c4de3f-3ca0-4430-c5c3-9a220336d2ef"
      },
      "source": [
        "# Accediendo al quinto elemento del Array\n",
        "array_uni[4]"
      ],
      "execution_count": null,
      "outputs": [
        {
          "output_type": "execute_result",
          "data": {
            "text/plain": [
              "9"
            ]
          },
          "metadata": {},
          "execution_count": 22
        }
      ]
    },
    {
      "cell_type": "code",
      "metadata": {
        "id": "m4JriDmUT3Kw",
        "colab": {
          "base_uri": "https://localhost:8080/"
        },
        "outputId": "6f1b5cc8-4543-452b-c44a-b178673c8ae0"
      },
      "source": [
        "# Accediendo al tercer y cuarto elemento del Array\n",
        "array_uni[2:4]"
      ],
      "execution_count": null,
      "outputs": [
        {
          "output_type": "execute_result",
          "data": {
            "text/plain": [
              "array([5, 7])"
            ]
          },
          "metadata": {},
          "execution_count": 23
        }
      ]
    },
    {
      "cell_type": "code",
      "metadata": {
        "id": "x00_IstBT3Kx",
        "colab": {
          "base_uri": "https://localhost:8080/"
        },
        "outputId": "732c2f3e-fcb7-4cca-d01c-794e21654978"
      },
      "source": [
        "# Accediendo a los elementos 0, 3 y 5 del Array\n",
        "array_uni[0::3]"
      ],
      "execution_count": null,
      "outputs": [
        {
          "output_type": "execute_result",
          "data": {
            "text/plain": [
              "array([1, 7])"
            ]
          },
          "metadata": {},
          "execution_count": 24
        }
      ]
    },
    {
      "cell_type": "markdown",
      "metadata": {
        "id": "Tb3NHxbVT3Kz"
      },
      "source": [
        "### Array multidimensional"
      ]
    },
    {
      "cell_type": "code",
      "metadata": {
        "id": "DeArKIALT3Kz",
        "colab": {
          "base_uri": "https://localhost:8080/"
        },
        "outputId": "aaeb6d5d-2089-49a7-fadf-a037534bb759"
      },
      "source": [
        "# Creación de un Array multidimensional\n",
        "array_multi = np.array([[1, 2, 3, 4], [5, 6, 7, 8]])\n",
        "print(\"Shape:\", array_multi.shape)\n",
        "print(\"Array_multi:\\n\", array_multi)"
      ],
      "execution_count": null,
      "outputs": [
        {
          "output_type": "stream",
          "name": "stdout",
          "text": [
            "Shape: (2, 4)\n",
            "Array_multi:\n",
            " [[1 2 3 4]\n",
            " [5 6 7 8]]\n"
          ]
        }
      ]
    },
    {
      "cell_type": "code",
      "metadata": {
        "id": "0Do0hU11T3K1",
        "colab": {
          "base_uri": "https://localhost:8080/"
        },
        "outputId": "2c615b00-2977-44af-9007-c7e5a757a47d"
      },
      "source": [
        "# Accediendo al cuarto elemento del Array\n",
        "array_multi[0, 3]"
      ],
      "execution_count": null,
      "outputs": [
        {
          "output_type": "execute_result",
          "data": {
            "text/plain": [
              "4"
            ]
          },
          "metadata": {},
          "execution_count": 26
        }
      ]
    },
    {
      "cell_type": "code",
      "metadata": {
        "id": "2oY93cV6T3K2",
        "colab": {
          "base_uri": "https://localhost:8080/"
        },
        "outputId": "d46cfafc-902a-4f2a-bede-61c7eb08209e"
      },
      "source": [
        "# Accediendo a la segunda fila del Array\n",
        "array_multi[1, :]"
      ],
      "execution_count": null,
      "outputs": [
        {
          "output_type": "execute_result",
          "data": {
            "text/plain": [
              "array([5, 6, 7, 8])"
            ]
          },
          "metadata": {},
          "execution_count": 27
        }
      ]
    },
    {
      "cell_type": "code",
      "metadata": {
        "id": "gfGFBQNJT3K3",
        "colab": {
          "base_uri": "https://localhost:8080/"
        },
        "outputId": "53bad474-2398-49b0-e495-7a1c33fce703"
      },
      "source": [
        "# Accediendo al tercer elemento de las dos primeras filas del Array\n",
        "array_multi[0:2, 2]"
      ],
      "execution_count": null,
      "outputs": [
        {
          "output_type": "execute_result",
          "data": {
            "text/plain": [
              "array([3, 7])"
            ]
          },
          "metadata": {},
          "execution_count": 28
        }
      ]
    },
    {
      "cell_type": "markdown",
      "metadata": {
        "id": "4pQNHno3T3K4"
      },
      "source": [
        "## Modificación de un Array"
      ]
    },
    {
      "cell_type": "code",
      "metadata": {
        "id": "l4upHa6wT3K4",
        "colab": {
          "base_uri": "https://localhost:8080/"
        },
        "outputId": "580f391e-d0db-4690-ae67-ed2b01d3b449"
      },
      "source": [
        "# Creación de un Array unidimensional inicializado con el rango de elementos 0-27\n",
        "array1 = np.arange(28)\n",
        "print(\"Shape:\", array1.shape)\n",
        "print(\"Array 1:\", array1)"
      ],
      "execution_count": null,
      "outputs": [
        {
          "output_type": "stream",
          "name": "stdout",
          "text": [
            "Shape: (28,)\n",
            "Array 1: [ 0  1  2  3  4  5  6  7  8  9 10 11 12 13 14 15 16 17 18 19 20 21 22 23\n",
            " 24 25 26 27]\n"
          ]
        }
      ]
    },
    {
      "cell_type": "code",
      "metadata": {
        "id": "k2BBQNA6T3K5",
        "colab": {
          "base_uri": "https://localhost:8080/"
        },
        "outputId": "7aeb3fd4-7988-48a7-a4e2-c7a794128f2f"
      },
      "source": [
        "# Cambiar las dimensiones del Array y sus longitudes\n",
        "array1.shape = (7, 4)\n",
        "print(\"Shape:\", array1.shape)\n",
        "print(\"Array 1:\\n\", array1)"
      ],
      "execution_count": null,
      "outputs": [
        {
          "output_type": "stream",
          "name": "stdout",
          "text": [
            "Shape: (7, 4)\n",
            "Array 1:\n",
            " [[ 0  1  2  3]\n",
            " [ 4  5  6  7]\n",
            " [ 8  9 10 11]\n",
            " [12 13 14 15]\n",
            " [16 17 18 19]\n",
            " [20 21 22 23]\n",
            " [24 25 26 27]]\n"
          ]
        }
      ]
    },
    {
      "cell_type": "code",
      "metadata": {
        "id": "3MpE_oSOT3K7",
        "colab": {
          "base_uri": "https://localhost:8080/"
        },
        "outputId": "e0e726fd-9358-409e-9dfd-8c062563d488"
      },
      "source": [
        "# El ejemplo anterior devuelve un nuevo Array que apunta a los mismos datos. \n",
        "# Importante: Modificaciones en un Array, modificaran el otro Array\n",
        "array2 = array1.reshape(4, 7)\n",
        "print(\"Shape:\", array2.shape)\n",
        "print(\"Array 2:\\n\", array2)"
      ],
      "execution_count": null,
      "outputs": [
        {
          "output_type": "stream",
          "name": "stdout",
          "text": [
            "Shape: (4, 7)\n",
            "Array 2:\n",
            " [[ 0  1  2  3  4  5  6]\n",
            " [ 7  8  9 10 11 12 13]\n",
            " [14 15 16 17 18 19 20]\n",
            " [21 22 23 24 25 26 27]]\n"
          ]
        }
      ]
    },
    {
      "cell_type": "code",
      "metadata": {
        "id": "mO7G3pdAT3K8",
        "colab": {
          "base_uri": "https://localhost:8080/"
        },
        "outputId": "2a34e6af-ee37-4bba-a652-d593eb4e0516"
      },
      "source": [
        "# Modificación del nuevo Array devuelto\n",
        "array2[0, 3] = 20\n",
        "print(\"Array 2:\\n\", array2)"
      ],
      "execution_count": null,
      "outputs": [
        {
          "output_type": "stream",
          "name": "stdout",
          "text": [
            "Array 2:\n",
            " [[ 0  1  2 20  4  5  6]\n",
            " [ 7  8  9 10 11 12 13]\n",
            " [14 15 16 17 18 19 20]\n",
            " [21 22 23 24 25 26 27]]\n"
          ]
        }
      ]
    },
    {
      "cell_type": "code",
      "metadata": {
        "id": "Ri6eot4PT3K9",
        "colab": {
          "base_uri": "https://localhost:8080/"
        },
        "outputId": "d3fbcaa5-d897-4fd7-f14e-b704d2bfffd4"
      },
      "source": [
        "print(\"Array 1:\\n\", array1)"
      ],
      "execution_count": null,
      "outputs": [
        {
          "output_type": "stream",
          "name": "stdout",
          "text": [
            "Array 1:\n",
            " [[ 0  1  2 20]\n",
            " [ 4  5  6  7]\n",
            " [ 8  9 10 11]\n",
            " [12 13 14 15]\n",
            " [16 17 18 19]\n",
            " [20 21 22 23]\n",
            " [24 25 26 27]]\n"
          ]
        }
      ]
    },
    {
      "cell_type": "code",
      "metadata": {
        "id": "c8rnBC0MT3K-",
        "colab": {
          "base_uri": "https://localhost:8080/"
        },
        "outputId": "0141d066-a017-48ba-9c9f-0bed8856c5a6"
      },
      "source": [
        "# Desenvuelve el Array, devolviendo un nuevo Array de una sola dimension\n",
        "# Importante: El nuevo array apunta a los mismos datos\n",
        "print(\"Array 1:\", array1.ravel())"
      ],
      "execution_count": null,
      "outputs": [
        {
          "output_type": "stream",
          "name": "stdout",
          "text": [
            "Array 1: [ 0  1  2 20  4  5  6  7  8  9 10 11 12 13 14 15 16 17 18 19 20 21 22 23\n",
            " 24 25 26 27]\n"
          ]
        }
      ]
    },
    {
      "cell_type": "markdown",
      "metadata": {
        "id": "-Vi9JoQET3K_"
      },
      "source": [
        "## Operaciones aritméticas con Arrays"
      ]
    },
    {
      "cell_type": "code",
      "metadata": {
        "id": "o9Zxe8lmT3LA",
        "colab": {
          "base_uri": "https://localhost:8080/"
        },
        "outputId": "b243dc0d-cee0-459c-d990-7a09bedf6892"
      },
      "source": [
        "# Creación de dos Arrays unidimensionales\n",
        "array1 = np.arange(2, 18, 2)\n",
        "array2 = np.arange(8)\n",
        "print(\"Array 1:\", array1)\n",
        "print(\"Array 2:\", array2)"
      ],
      "execution_count": null,
      "outputs": [
        {
          "output_type": "stream",
          "name": "stdout",
          "text": [
            "Array 1: [ 2  4  6  8 10 12 14 16]\n",
            "Array 2: [0 1 2 3 4 5 6 7]\n"
          ]
        }
      ]
    },
    {
      "cell_type": "code",
      "metadata": {
        "id": "j-Uoi9EhT3LB",
        "colab": {
          "base_uri": "https://localhost:8080/"
        },
        "outputId": "ff2f7a1d-4023-473e-9995-6bdc2b21ca0c"
      },
      "source": [
        "# Suma\n",
        "print(array1 + array2)"
      ],
      "execution_count": null,
      "outputs": [
        {
          "output_type": "stream",
          "name": "stdout",
          "text": [
            "[ 2  5  8 11 14 17 20 23]\n"
          ]
        }
      ]
    },
    {
      "cell_type": "code",
      "metadata": {
        "id": "VNZXhhouT3LC",
        "colab": {
          "base_uri": "https://localhost:8080/"
        },
        "outputId": "fe517293-2db6-448d-daea-bfb6b912ff7a"
      },
      "source": [
        "# Resta\n",
        "print(array1 - array2)"
      ],
      "execution_count": null,
      "outputs": [
        {
          "output_type": "stream",
          "name": "stdout",
          "text": [
            "[2 3 4 5 6 7 8 9]\n"
          ]
        }
      ]
    },
    {
      "cell_type": "code",
      "metadata": {
        "id": "-wF4j4jvT3LD",
        "colab": {
          "base_uri": "https://localhost:8080/"
        },
        "outputId": "eb0bd270-f8f9-4a1b-b52d-ff06d989c226"
      },
      "source": [
        "# Multiplicacion\n",
        "# Importante: No es una multiplicación de matrices\n",
        "print(array1 * array2)"
      ],
      "execution_count": null,
      "outputs": [
        {
          "output_type": "stream",
          "name": "stdout",
          "text": [
            "[  0   4  12  24  40  60  84 112]\n"
          ]
        }
      ]
    },
    {
      "cell_type": "markdown",
      "metadata": {
        "id": "yaRmTZN_T3LE"
      },
      "source": [
        "## Broadcasting"
      ]
    },
    {
      "cell_type": "markdown",
      "metadata": {
        "id": "C1tJPZizT3LE"
      },
      "source": [
        "Si se aplican operaciones aritméticas sobre Arrays que no tienen la misma forma (shape) Numpy aplica un propiedad que se denomina Broadcasting."
      ]
    },
    {
      "cell_type": "code",
      "metadata": {
        "id": "v7VNce1QT3LF",
        "colab": {
          "base_uri": "https://localhost:8080/"
        },
        "outputId": "fecafce7-b2f1-4170-936b-30a110d35302"
      },
      "source": [
        "# Creación de dos Arrays unidimensionales\n",
        "array1 = np.arange(5)\n",
        "array2 = np.array([3])\n",
        "print(\"Shape Array 1:\", array1.shape)\n",
        "print(\"Array 1:\", array1)\n",
        "print()\n",
        "print(\"Shape Array 2:\", array2.shape)\n",
        "print(\"Array 2:\", array2)"
      ],
      "execution_count": null,
      "outputs": [
        {
          "output_type": "stream",
          "name": "stdout",
          "text": [
            "Shape Array 1: (5,)\n",
            "Array 1: [0 1 2 3 4]\n",
            "\n",
            "Shape Array 2: (1,)\n",
            "Array 2: [3]\n"
          ]
        }
      ]
    },
    {
      "cell_type": "code",
      "metadata": {
        "id": "ll202GB-T3LG",
        "colab": {
          "base_uri": "https://localhost:8080/"
        },
        "outputId": "23001910-d8a6-47d2-93e1-2c6626358de0"
      },
      "source": [
        "# Suma de ambos Arrays\n",
        "array1 + array2"
      ],
      "execution_count": null,
      "outputs": [
        {
          "output_type": "execute_result",
          "data": {
            "text/plain": [
              "array([3, 4, 5, 6, 7])"
            ]
          },
          "metadata": {},
          "execution_count": 40
        }
      ]
    },
    {
      "cell_type": "code",
      "metadata": {
        "id": "VMhVoLh0T3LG",
        "colab": {
          "base_uri": "https://localhost:8080/"
        },
        "outputId": "17044a72-d2b7-4149-f0c9-1e35e6ddcd2f"
      },
      "source": [
        "# Creación de dos Arrays multidimensional y unidimensional\n",
        "array1 = np.arange(6)\n",
        "array1.shape = (2, 3)\n",
        "array2 = np.arange(6, 18, 4)\n",
        "print(\"Shape Array 1:\", array1.shape)\n",
        "print(\"Array 1:\\n\", array1)\n",
        "print()\n",
        "print(\"Shape Array 2:\", array2.shape)\n",
        "print(\"Array 2:\", array2)"
      ],
      "execution_count": null,
      "outputs": [
        {
          "output_type": "stream",
          "name": "stdout",
          "text": [
            "Shape Array 1: (2, 3)\n",
            "Array 1:\n",
            " [[0 1 2]\n",
            " [3 4 5]]\n",
            "\n",
            "Shape Array 2: (3,)\n",
            "Array 2: [ 6 10 14]\n"
          ]
        }
      ]
    },
    {
      "cell_type": "code",
      "metadata": {
        "id": "tMyFzw_VT3LH",
        "colab": {
          "base_uri": "https://localhost:8080/"
        },
        "outputId": "b971e467-3ebb-4c6a-94c4-38d93cb527d5"
      },
      "source": [
        "# Suma de ambos Arrays\n",
        "array1 + array2"
      ],
      "execution_count": null,
      "outputs": [
        {
          "output_type": "execute_result",
          "data": {
            "text/plain": [
              "array([[ 6, 11, 16],\n",
              "       [ 9, 14, 19]])"
            ]
          },
          "metadata": {},
          "execution_count": 42
        }
      ]
    },
    {
      "cell_type": "markdown",
      "metadata": {
        "id": "BuhCszDUT3LI"
      },
      "source": [
        "## Funciones estadísticas sobre Arrays"
      ]
    },
    {
      "cell_type": "code",
      "metadata": {
        "id": "YFNnAdrFT3LI",
        "colab": {
          "base_uri": "https://localhost:8080/"
        },
        "outputId": "4690a7a0-8aa7-468d-8dc4-f05faaaed34e"
      },
      "source": [
        "# Creación de un Array unidimensional\n",
        "array1 = np.arange(1, 20, 2)\n",
        "print(\"Array 1:\", array1)"
      ],
      "execution_count": null,
      "outputs": [
        {
          "output_type": "stream",
          "name": "stdout",
          "text": [
            "Array 1: [ 1  3  5  7  9 11 13 15 17 19]\n"
          ]
        }
      ]
    },
    {
      "cell_type": "code",
      "metadata": {
        "id": "8eXZVl93T3LJ",
        "colab": {
          "base_uri": "https://localhost:8080/"
        },
        "outputId": "82ad8f6c-2bef-408d-8512-33d11440a6ac"
      },
      "source": [
        "# Media de los elementos del Array\n",
        "array1.mean()"
      ],
      "execution_count": null,
      "outputs": [
        {
          "output_type": "execute_result",
          "data": {
            "text/plain": [
              "10.0"
            ]
          },
          "metadata": {},
          "execution_count": 44
        }
      ]
    },
    {
      "cell_type": "code",
      "metadata": {
        "id": "PJhsadJUT3LK",
        "colab": {
          "base_uri": "https://localhost:8080/"
        },
        "outputId": "79d6f16a-603f-45ba-b7e5-8ff36cd1804d"
      },
      "source": [
        "# Suma de los elementos del Array\n",
        "array1.sum()"
      ],
      "execution_count": null,
      "outputs": [
        {
          "output_type": "execute_result",
          "data": {
            "text/plain": [
              "100"
            ]
          },
          "metadata": {},
          "execution_count": 45
        }
      ]
    },
    {
      "cell_type": "markdown",
      "metadata": {
        "id": "xFKNb0qqT3LL"
      },
      "source": [
        "Funciones universales eficientes proporcionadas por numpy: **ufunc**"
      ]
    },
    {
      "cell_type": "code",
      "metadata": {
        "id": "xHmJSgaAT3LL",
        "colab": {
          "base_uri": "https://localhost:8080/"
        },
        "outputId": "706e8b8c-d2ee-4ea9-d7da-7d01fcfc07be"
      },
      "source": [
        "# Cuadrado de los elementos del Array\n",
        "np.square(array1)"
      ],
      "execution_count": null,
      "outputs": [
        {
          "output_type": "execute_result",
          "data": {
            "text/plain": [
              "array([  1,   9,  25,  49,  81, 121, 169, 225, 289, 361])"
            ]
          },
          "metadata": {},
          "execution_count": 46
        }
      ]
    },
    {
      "cell_type": "code",
      "metadata": {
        "id": "lXbUgAz1T3LM",
        "colab": {
          "base_uri": "https://localhost:8080/"
        },
        "outputId": "9314f049-cb56-4250-f05e-2f9d5cbb8fd7"
      },
      "source": [
        "# Raiz cuadrada de los elementos del Array\n",
        "np.sqrt(array1)"
      ],
      "execution_count": null,
      "outputs": [
        {
          "output_type": "execute_result",
          "data": {
            "text/plain": [
              "array([1.        , 1.73205081, 2.23606798, 2.64575131, 3.        ,\n",
              "       3.31662479, 3.60555128, 3.87298335, 4.12310563, 4.35889894])"
            ]
          },
          "metadata": {},
          "execution_count": 47
        }
      ]
    },
    {
      "cell_type": "code",
      "metadata": {
        "id": "rdlVgtbnT3LN",
        "colab": {
          "base_uri": "https://localhost:8080/"
        },
        "outputId": "4fcbc13c-1dee-4353-ded6-f20dd9b7a598"
      },
      "source": [
        "# Exponencial de los elementos del Array\n",
        "np.exp(array1)"
      ],
      "execution_count": null,
      "outputs": [
        {
          "output_type": "execute_result",
          "data": {
            "text/plain": [
              "array([2.71828183e+00, 2.00855369e+01, 1.48413159e+02, 1.09663316e+03,\n",
              "       8.10308393e+03, 5.98741417e+04, 4.42413392e+05, 3.26901737e+06,\n",
              "       2.41549528e+07, 1.78482301e+08])"
            ]
          },
          "metadata": {},
          "execution_count": 48
        }
      ]
    },
    {
      "cell_type": "code",
      "metadata": {
        "id": "OCzx3P9NT3LO",
        "colab": {
          "base_uri": "https://localhost:8080/"
        },
        "outputId": "952f08da-1f30-4c62-9102-8f8590bb4bbf"
      },
      "source": [
        "# log de los elementos del Array\n",
        "np.log(array1)"
      ],
      "execution_count": null,
      "outputs": [
        {
          "output_type": "execute_result",
          "data": {
            "text/plain": [
              "array([0.        , 1.09861229, 1.60943791, 1.94591015, 2.19722458,\n",
              "       2.39789527, 2.56494936, 2.7080502 , 2.83321334, 2.94443898])"
            ]
          },
          "metadata": {},
          "execution_count": 49
        }
      ]
    },
    {
      "cell_type": "code",
      "metadata": {
        "id": "0itn3finT3LP"
      },
      "source": [
        ""
      ],
      "execution_count": null,
      "outputs": []
    },
    {
      "cell_type": "code",
      "source": [
        "from google.colab import drive\n",
        "drive.mount('/content/drive')"
      ],
      "metadata": {
        "colab": {
          "base_uri": "https://localhost:8080/",
          "height": 330
        },
        "id": "_5rP9K8OAiRy",
        "outputId": "3915b8ec-13e9-4b26-976e-f217ea37ab28"
      },
      "execution_count": null,
      "outputs": [
        {
          "output_type": "error",
          "ename": "KeyboardInterrupt",
          "evalue": "ignored",
          "traceback": [
            "\u001b[0;31m---------------------------------------------------------------------------\u001b[0m",
            "\u001b[0;31mKeyboardInterrupt\u001b[0m                         Traceback (most recent call last)",
            "\u001b[0;32m<ipython-input-57-d5df0069828e>\u001b[0m in \u001b[0;36m<module>\u001b[0;34m()\u001b[0m\n\u001b[1;32m      1\u001b[0m \u001b[0;32mfrom\u001b[0m \u001b[0mgoogle\u001b[0m\u001b[0;34m.\u001b[0m\u001b[0mcolab\u001b[0m \u001b[0;32mimport\u001b[0m \u001b[0mdrive\u001b[0m\u001b[0;34m\u001b[0m\u001b[0;34m\u001b[0m\u001b[0m\n\u001b[0;32m----> 2\u001b[0;31m \u001b[0mdrive\u001b[0m\u001b[0;34m.\u001b[0m\u001b[0mmount\u001b[0m\u001b[0;34m(\u001b[0m\u001b[0;34m'/content/drive'\u001b[0m\u001b[0;34m)\u001b[0m\u001b[0;34m\u001b[0m\u001b[0;34m\u001b[0m\u001b[0m\n\u001b[0m",
            "\u001b[0;32m/usr/local/lib/python3.7/dist-packages/google/colab/drive.py\u001b[0m in \u001b[0;36mmount\u001b[0;34m(mountpoint, force_remount, timeout_ms)\u001b[0m\n\u001b[1;32m    107\u001b[0m       \u001b[0mforce_remount\u001b[0m\u001b[0;34m=\u001b[0m\u001b[0mforce_remount\u001b[0m\u001b[0;34m,\u001b[0m\u001b[0;34m\u001b[0m\u001b[0;34m\u001b[0m\u001b[0m\n\u001b[1;32m    108\u001b[0m       \u001b[0mtimeout_ms\u001b[0m\u001b[0;34m=\u001b[0m\u001b[0mtimeout_ms\u001b[0m\u001b[0;34m,\u001b[0m\u001b[0;34m\u001b[0m\u001b[0;34m\u001b[0m\u001b[0m\n\u001b[0;32m--> 109\u001b[0;31m       ephemeral=True)\n\u001b[0m\u001b[1;32m    110\u001b[0m \u001b[0;34m\u001b[0m\u001b[0m\n\u001b[1;32m    111\u001b[0m \u001b[0;34m\u001b[0m\u001b[0m\n",
            "\u001b[0;32m/usr/local/lib/python3.7/dist-packages/google/colab/drive.py\u001b[0m in \u001b[0;36m_mount\u001b[0;34m(mountpoint, force_remount, timeout_ms, ephemeral)\u001b[0m\n\u001b[1;32m    122\u001b[0m   \u001b[0;32mif\u001b[0m \u001b[0mephemeral\u001b[0m\u001b[0;34m:\u001b[0m\u001b[0;34m\u001b[0m\u001b[0;34m\u001b[0m\u001b[0m\n\u001b[1;32m    123\u001b[0m     _message.blocking_request(\n\u001b[0;32m--> 124\u001b[0;31m         'request_auth', request={'authType': 'dfs_ephemeral'}, timeout_sec=None)\n\u001b[0m\u001b[1;32m    125\u001b[0m \u001b[0;34m\u001b[0m\u001b[0m\n\u001b[1;32m    126\u001b[0m   \u001b[0mmountpoint\u001b[0m \u001b[0;34m=\u001b[0m \u001b[0m_os\u001b[0m\u001b[0;34m.\u001b[0m\u001b[0mpath\u001b[0m\u001b[0;34m.\u001b[0m\u001b[0mexpanduser\u001b[0m\u001b[0;34m(\u001b[0m\u001b[0mmountpoint\u001b[0m\u001b[0;34m)\u001b[0m\u001b[0;34m\u001b[0m\u001b[0;34m\u001b[0m\u001b[0m\n",
            "\u001b[0;32m/usr/local/lib/python3.7/dist-packages/google/colab/_message.py\u001b[0m in \u001b[0;36mblocking_request\u001b[0;34m(request_type, request, timeout_sec, parent)\u001b[0m\n\u001b[1;32m    173\u001b[0m   request_id = send_request(\n\u001b[1;32m    174\u001b[0m       request_type, request, parent=parent, expect_reply=True)\n\u001b[0;32m--> 175\u001b[0;31m   \u001b[0;32mreturn\u001b[0m \u001b[0mread_reply_from_input\u001b[0m\u001b[0;34m(\u001b[0m\u001b[0mrequest_id\u001b[0m\u001b[0;34m,\u001b[0m \u001b[0mtimeout_sec\u001b[0m\u001b[0;34m)\u001b[0m\u001b[0;34m\u001b[0m\u001b[0;34m\u001b[0m\u001b[0m\n\u001b[0m",
            "\u001b[0;32m/usr/local/lib/python3.7/dist-packages/google/colab/_message.py\u001b[0m in \u001b[0;36mread_reply_from_input\u001b[0;34m(message_id, timeout_sec)\u001b[0m\n\u001b[1;32m     99\u001b[0m     \u001b[0mreply\u001b[0m \u001b[0;34m=\u001b[0m \u001b[0m_read_next_input_message\u001b[0m\u001b[0;34m(\u001b[0m\u001b[0;34m)\u001b[0m\u001b[0;34m\u001b[0m\u001b[0;34m\u001b[0m\u001b[0m\n\u001b[1;32m    100\u001b[0m     \u001b[0;32mif\u001b[0m \u001b[0mreply\u001b[0m \u001b[0;34m==\u001b[0m \u001b[0m_NOT_READY\u001b[0m \u001b[0;32mor\u001b[0m \u001b[0;32mnot\u001b[0m \u001b[0misinstance\u001b[0m\u001b[0;34m(\u001b[0m\u001b[0mreply\u001b[0m\u001b[0;34m,\u001b[0m \u001b[0mdict\u001b[0m\u001b[0;34m)\u001b[0m\u001b[0;34m:\u001b[0m\u001b[0;34m\u001b[0m\u001b[0;34m\u001b[0m\u001b[0m\n\u001b[0;32m--> 101\u001b[0;31m       \u001b[0mtime\u001b[0m\u001b[0;34m.\u001b[0m\u001b[0msleep\u001b[0m\u001b[0;34m(\u001b[0m\u001b[0;36m0.025\u001b[0m\u001b[0;34m)\u001b[0m\u001b[0;34m\u001b[0m\u001b[0;34m\u001b[0m\u001b[0m\n\u001b[0m\u001b[1;32m    102\u001b[0m       \u001b[0;32mcontinue\u001b[0m\u001b[0;34m\u001b[0m\u001b[0;34m\u001b[0m\u001b[0m\n\u001b[1;32m    103\u001b[0m     if (reply.get('type') == 'colab_reply' and\n",
            "\u001b[0;31mKeyboardInterrupt\u001b[0m: "
          ]
        }
      ]
    },
    {
      "cell_type": "code",
      "source": [
        ""
      ],
      "metadata": {
        "id": "B8Ze_796FC95"
      },
      "execution_count": null,
      "outputs": []
    },
    {
      "cell_type": "markdown",
      "source": [
        "# Introduccion a Pandas"
      ],
      "metadata": {
        "id": "v49TB1CKBDTw"
      }
    },
    {
      "cell_type": "code",
      "source": [
        "import pandas as pd"
      ],
      "metadata": {
        "id": "mbPrjlV1Axhm"
      },
      "execution_count": null,
      "outputs": []
    },
    {
      "cell_type": "code",
      "source": [
        "#creacion de objeto serie\n",
        "s = pd.Series([2,4,6,8,10])\n",
        "print(s)\n",
        "#muestra indice y elementos del array"
      ],
      "metadata": {
        "colab": {
          "base_uri": "https://localhost:8080/"
        },
        "id": "08FzLjK5BVMz",
        "outputId": "877a1a9f-a269-4f17-9b94-575b50c56d00"
      },
      "execution_count": null,
      "outputs": [
        {
          "output_type": "stream",
          "name": "stdout",
          "text": [
            "0     2\n",
            "1     4\n",
            "2     6\n",
            "3     8\n",
            "4    10\n",
            "dtype: int64\n"
          ]
        }
      ]
    },
    {
      "cell_type": "code",
      "source": [
        "#Creacion de un objeto series inicializándolo con un diccionario de py\n",
        "\n",
        "altura = {\"Santiago\" : 187 , \"Pedro\" : 178 , \"Julia\" : 170, \"Ana\" : 165}\n",
        "\n",
        "s = pd.Series(altura)\n",
        "\n",
        "#el objeto se mete a la funcion series el cual me va a ordenar en filas y columnas\n",
        "print(s)"
      ],
      "metadata": {
        "colab": {
          "base_uri": "https://localhost:8080/"
        },
        "id": "Z672u7yMBnZ2",
        "outputId": "94d62c5f-ffb6-448e-dede-7cf3145a87fc"
      },
      "execution_count": null,
      "outputs": [
        {
          "output_type": "stream",
          "name": "stdout",
          "text": [
            "Santiago    187\n",
            "Pedro       178\n",
            "Julia       170\n",
            "Ana         165\n",
            "dtype: int64\n"
          ]
        }
      ]
    },
    {
      "cell_type": "code",
      "source": [
        "altura = {\"Santiago\" : 187 , \"Pedro\" : 178 , \"Julia\" : 170, \"Ana\" : 165}\n",
        "\n",
        "s = pd.Series([\"Pedro\",\"Julia\"])\n",
        "\n",
        "#el objeto se mete a Series para acomodar en lista pero solo los elementos en forma de vector\n",
        "print(s)"
      ],
      "metadata": {
        "colab": {
          "base_uri": "https://localhost:8080/"
        },
        "id": "aVCGmsSiCpQF",
        "outputId": "460a3630-e611-4a36-a0f1-e0bec34d7e41"
      },
      "execution_count": null,
      "outputs": [
        {
          "output_type": "stream",
          "name": "stdout",
          "text": [
            "0    Pedro\n",
            "1    Julia\n",
            "dtype: object\n"
          ]
        }
      ]
    },
    {
      "cell_type": "code",
      "source": [
        "#Creacion de un objeto series inicializandolo con un escalar \n",
        "s =pd.Series(34,[\"test1\",\"test2\",\"test3\"])\n",
        "print(s)\n",
        "#en este paso a la funcion series se le agrego un escalar el cual para cada valor del vector se le agregara el value del escalar"
      ],
      "metadata": {
        "colab": {
          "base_uri": "https://localhost:8080/"
        },
        "id": "2urSGo2wDd4L",
        "outputId": "21039e4f-3528-415d-b4fd-ba6413afd2ea"
      },
      "execution_count": null,
      "outputs": [
        {
          "output_type": "stream",
          "name": "stdout",
          "text": [
            "test1    34\n",
            "test2    34\n",
            "test3    34\n",
            "dtype: int64\n"
          ]
        }
      ]
    },
    {
      "cell_type": "markdown",
      "source": [
        "## Acceso a los elementos de un objeto series"
      ],
      "metadata": {
        "id": "eZqmHaodGHFY"
      }
    },
    {
      "cell_type": "code",
      "source": [
        "#Acceder a los elementos de un objeto series, los series contienen un indice\n",
        "s = pd.Series([2,4,6,8] , index = [\"num1\",\"num2\",\"num3\",\"num4\"])\n",
        "print(s) \n",
        "#En este caso se metio a la funcion series dos vectores y los ordeno key - value\n",
        "#Accediendo al elemento num 3\n",
        "s[\"num3\"]\n",
        "#tanmbien se puede acceder al elemento por posicion\n",
        "s[2]\n",
        "\n"
      ],
      "metadata": {
        "colab": {
          "base_uri": "https://localhost:8080/"
        },
        "id": "Q1wBN7jUEA37",
        "outputId": "e48941a7-b3f3-4d4a-acf2-bdf65bbdf292"
      },
      "execution_count": null,
      "outputs": [
        {
          "output_type": "stream",
          "name": "stdout",
          "text": [
            "num1    2\n",
            "num2    4\n",
            "num3    6\n",
            "num4    8\n",
            "dtype: int64\n"
          ]
        },
        {
          "output_type": "execute_result",
          "data": {
            "text/plain": [
              "6"
            ]
          },
          "metadata": {},
          "execution_count": 60
        }
      ]
    },
    {
      "cell_type": "code",
      "source": [
        "# loc es la forma estandar de acceder a un elemento de un objeto series \n",
        "s.loc[\"num3\"]\n",
        "#iloc es una forma estandar de acceder a u elemento serie por la posicion\n",
        "s.iloc[2]\n",
        "#Accediendo al segundo y tercer elemento por posicion\n",
        "s.iloc[2:4]"
      ],
      "metadata": {
        "colab": {
          "base_uri": "https://localhost:8080/"
        },
        "id": "N0XZlrORFEp4",
        "outputId": "2e42c74d-0a2c-4f99-98da-99bb83ccbc65"
      },
      "execution_count": null,
      "outputs": [
        {
          "output_type": "execute_result",
          "data": {
            "text/plain": [
              "num3    6\n",
              "num4    8\n",
              "dtype: int64"
            ]
          },
          "metadata": {},
          "execution_count": 63
        }
      ]
    },
    {
      "cell_type": "markdown",
      "source": [
        "## Operaciones aritmeticas con series"
      ],
      "metadata": {
        "id": "Ahut3U3mGlf2"
      }
    },
    {
      "cell_type": "code",
      "source": [
        "s = pd.Series([2,4,6,8,10])\n",
        "print(s)"
      ],
      "metadata": {
        "colab": {
          "base_uri": "https://localhost:8080/"
        },
        "id": "pfSqGuZNGrpd",
        "outputId": "ed58fccb-1b23-4fcd-849c-7540ba97d794"
      },
      "execution_count": null,
      "outputs": [
        {
          "output_type": "stream",
          "name": "stdout",
          "text": [
            "0     2\n",
            "1     4\n",
            "2     6\n",
            "3     8\n",
            "4    10\n",
            "dtype: int64\n"
          ]
        }
      ]
    },
    {
      "cell_type": "code",
      "source": [
        "import numpy as np2"
      ],
      "metadata": {
        "id": "C0wTTmnPHGMF"
      },
      "execution_count": null,
      "outputs": []
    },
    {
      "cell_type": "code",
      "source": [
        "#Los objetos series son compatibles con numpy, funcion de numpy para sumar los elementos de un array\n",
        "np2.sum(s)\n",
        "#recordar que el objeto se creo con pandas"
      ],
      "metadata": {
        "colab": {
          "base_uri": "https://localhost:8080/"
        },
        "id": "YXSCTHnKHK3c",
        "outputId": "7448d3a9-4fc2-496e-9b52-95f96c4e54da"
      },
      "execution_count": null,
      "outputs": [
        {
          "output_type": "execute_result",
          "data": {
            "text/plain": [
              "30"
            ]
          },
          "metadata": {},
          "execution_count": 66
        }
      ]
    }
  ]
}